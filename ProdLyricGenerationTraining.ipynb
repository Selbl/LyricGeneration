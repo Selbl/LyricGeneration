{
 "cells": [
  {
   "cell_type": "markdown",
   "id": "20639e72-4fc8-46df-8ab4-55f338b30e0e",
   "metadata": {},
   "source": [
    "# Lyric Generation Training Using GPT2"
   ]
  },
  {
   "cell_type": "markdown",
   "id": "306d7b99",
   "metadata": {},
   "source": [
    "This notebook uses the data fetched from the Genius lyrics API in the other notebook from this repository to finetune a GPT2 model to generate lyrics.\n",
    "\n",
    "This process is very computational intensive, it took me over 50 hours to train on a M1 Apple Macbook. For that same reason, the outputs in this notebook may not accurately reflect the training process."
   ]
  },
  {
   "cell_type": "markdown",
   "id": "53205abc",
   "metadata": {},
   "source": [
    "Credit to [Ruben Winastwan](https://towardsdatascience.com/text-generation-with-gpt-092db8205cad) for his amazing article on fine-tuning GPT models which inspired the code in this notebook."
   ]
  },
  {
   "cell_type": "markdown",
   "id": "697c5e95-e9d1-44a0-9185-1f757590d99a",
   "metadata": {},
   "source": [
    "## Preliminaries"
   ]
  },
  {
   "cell_type": "markdown",
   "id": "5f80219f",
   "metadata": {},
   "source": [
    "First I import the data and set up the device's GPU. I strongly suggest not running the code if you do not have a GPU."
   ]
  },
  {
   "cell_type": "code",
   "execution_count": 1,
   "id": "4592acc3-946c-4e99-bbc8-6023f8c59ceb",
   "metadata": {},
   "outputs": [
    {
     "name": "stderr",
     "output_type": "stream",
     "text": [
      "/Users/selbl/anaconda3/envs/CS129/lib/python3.11/site-packages/tqdm/auto.py:21: TqdmWarning: IProgress not found. Please update jupyter and ipywidgets. See https://ipywidgets.readthedocs.io/en/stable/user_install.html\n",
      "  from .autonotebook import tqdm as notebook_tqdm\n"
     ]
    }
   ],
   "source": [
    "import torch\n",
    "import numpy as np\n",
    "from torch import nn\n",
    "from transformers import GPT2Tokenizer, GPT2Config, GPT2Model, GPT2PreTrainedModel\n",
    "from torch.optim import AdamW\n",
    "from datasets import load_dataset\n",
    "from tqdm import tqdm\n",
    "from torch.nn import functional as F\n",
    "import pandas as pd\n",
    "\n",
    "import matplotlib.pyplot as plt\n",
    "import numpy as np\n",
    "%matplotlib inline\n",
    "\n",
    "device = 'cuda' if torch.cuda.is_available() else 'mps' if torch.backends.mps.is_built() else 'cpu'"
   ]
  },
  {
   "cell_type": "markdown",
   "id": "e3368085",
   "metadata": {},
   "source": [
    "Load the dataset. The csv in the repository has two columns with lyrics: lyrics and lyrics cleaned (the formatted lyrics). In this notebook I only use the formatted lyrics, so I overwrite the original lyrics to train the model"
   ]
  },
  {
   "cell_type": "code",
   "execution_count": 2,
   "id": "09db18ea-7f2b-4f90-b98e-c4169304e861",
   "metadata": {},
   "outputs": [],
   "source": [
    "#Load dataset\n",
    "dataset = pd.read_csv('7000SongsDFCleanedLyricsParts.csv',index_col=False)\n",
    "#Flip from cleaned to lyrics\n",
    "dataset['Lyrics'] = dataset['Lyrics_Cleaned']"
   ]
  },
  {
   "cell_type": "code",
   "execution_count": 5,
   "id": "1210619b-63e8-4375-9143-90431113f231",
   "metadata": {},
   "outputs": [],
   "source": [
    "#Remove the nan\n",
    "dataset = dataset.dropna()"
   ]
  },
  {
   "cell_type": "markdown",
   "id": "03cf112a",
   "metadata": {},
   "source": [
    "So that the code knows where each phrase is supposed to end, I add a token to every song lyric."
   ]
  },
  {
   "cell_type": "code",
   "execution_count": 25,
   "id": "7c08befe-a6aa-41d8-a23a-bb62900978a8",
   "metadata": {},
   "outputs": [
    {
     "name": "stderr",
     "output_type": "stream",
     "text": [
      "/var/folders/vx/3cyjfsr546x_wkrs920k2n2m0000gn/T/ipykernel_16731/2484988339.py:2: SettingWithCopyWarning: \n",
      "A value is trying to be set on a copy of a slice from a DataFrame.\n",
      "Try using .loc[row_indexer,col_indexer] = value instead\n",
      "\n",
      "See the caveats in the documentation: https://pandas.pydata.org/pandas-docs/stable/user_guide/indexing.html#returning-a-view-versus-a-copy\n",
      "  dataset['Lyrics'] = [lyrics + ' <|endoftext|>' for lyrics in dataset['Lyrics']]\n"
     ]
    }
   ],
   "source": [
    "#Add the end of text token at the end\n",
    "dataset['Lyrics'] = [lyrics + ' <|endoftext|>' for lyrics in dataset['Lyrics']]"
   ]
  },
  {
   "cell_type": "markdown",
   "id": "06033f0a-edc1-4ceb-baa7-ae38a8a12452",
   "metadata": {},
   "source": [
    "## Tokenization"
   ]
  },
  {
   "cell_type": "markdown",
   "id": "abc1e1b4",
   "metadata": {},
   "source": [
    "Having imported the data, I tokenize it so the model can properly operate. I also add a padding character so the lyrics have the same length."
   ]
  },
  {
   "cell_type": "code",
   "execution_count": 6,
   "id": "f6893ca5-f489-478d-95ca-c85789ca621f",
   "metadata": {},
   "outputs": [
    {
     "name": "stderr",
     "output_type": "stream",
     "text": [
      "Special tokens have been added in the vocabulary, make sure the associated word embeddings are fine-tuned or trained.\n"
     ]
    }
   ],
   "source": [
    "tokenizer = GPT2Tokenizer.from_pretrained('gpt2', pad_token='<|pad|>') "
   ]
  },
  {
   "cell_type": "code",
   "execution_count": 7,
   "id": "480c22fc-eeea-4e0a-8236-9987411c549f",
   "metadata": {},
   "outputs": [],
   "source": [
    "class GPT2_Model(GPT2PreTrainedModel):\n",
    "\n",
    "    def __init__(self, config):\n",
    "\n",
    "        super().__init__(config)\n",
    "\n",
    "        self.transformer = GPT2Model.from_pretrained('gpt2')\n",
    "        tokenizer = GPT2Tokenizer.from_pretrained('gpt2', pad_token='<|pad|>')\n",
    "\n",
    "        # this is necessary since we add a new unique token for pad_token\n",
    "        self.transformer.resize_token_embeddings(len(tokenizer))\n",
    "\n",
    "        self.lm_head = nn.Linear(config.n_embd, len(tokenizer), bias=False)\n",
    "\n",
    "    def forward(self, input_ids, attention_mask=None, token_type_ids=None):\n",
    "\n",
    "        x = self.transformer(input_ids, attention_mask=attention_mask, token_type_ids=token_type_ids)[0]\n",
    "        x = self.lm_head(x)\n",
    "\n",
    "        return x"
   ]
  },
  {
   "cell_type": "markdown",
   "id": "07a6f075",
   "metadata": {},
   "source": [
    "Obtain the text corpus from the lyrics. Also tokenize the input text."
   ]
  },
  {
   "cell_type": "code",
   "execution_count": 8,
   "id": "2bfd18fc-7f2d-4ac0-bd29-af83874fb5a5",
   "metadata": {},
   "outputs": [],
   "source": [
    "#Get text corpus\n",
    "text_corpus = [f\"{txt} \" for i, txt in enumerate(dataset['Lyrics']) if txt != '']\n",
    "#get the tokenized input text\n",
    "tokenized_inp_len = [len(tokenizer(txt,truncation=True)['input_ids']) for txt in text_corpus]"
   ]
  },
  {
   "cell_type": "markdown",
   "id": "f5d54334",
   "metadata": {},
   "source": [
    "To get an idea of how the songs have different distributions of token lengths, I plot a histogram of the token lengths"
   ]
  },
  {
   "cell_type": "code",
   "execution_count": 10,
   "id": "01efe2f9-81af-4eed-abe6-7bfd88bfd17c",
   "metadata": {},
   "outputs": [
    {
     "data": {
      "text/plain": [
       "Text(0.5, 0, 'Token Length')"
      ]
     },
     "execution_count": 10,
     "metadata": {},
     "output_type": "execute_result"
    },
    {
     "data": {
      "image/png": "[encoded data removed]",
      "text/plain": [
       "<Figure size 640x480 with 1 Axes>"
      ]
     },
     "metadata": {},
     "output_type": "display_data"
    }
   ],
   "source": [
    "#Visualize distribution\n",
    "x = np.asarray(tokenized_inp_len)\n",
    "plt.hist(x, density=False, bins=10)  \n",
    "plt.ylabel('Count')\n",
    "plt.xlabel('Token Length')"
   ]
  },
  {
   "cell_type": "markdown",
   "id": "29db8821",
   "metadata": {},
   "source": [
    "The above histogram shows a bimodal distribution. I set the max length of the tokens in the model at 400 to account for that second peak."
   ]
  },
  {
   "cell_type": "code",
   "execution_count": 11,
   "id": "bf066b3e-45b6-4308-9be8-951880b176a6",
   "metadata": {},
   "outputs": [],
   "source": [
    "#Set max length at 400 because of the above histogram\n",
    "class LyricsDataset(torch.utils.data.Dataset):\n",
    "    def __init__(self, input_data, tokenizer, gpt2_type=\"gpt2\", max_length=400):\n",
    "\n",
    "        self.texts = [tokenizer(data, truncation=True, max_length=max_length, padding=\"max_length\", return_tensors=\"pt\")\n",
    "                        for data in input_data]\n",
    "\n",
    "    def __len__(self):\n",
    "        return len(self.texts)\n",
    "\n",
    "    def __getitem__(self, idx):\n",
    "        return self.texts[idx]"
   ]
  },
  {
   "cell_type": "markdown",
   "id": "ccadc3ab",
   "metadata": {},
   "source": [
    "Define loss function and training functions"
   ]
  },
  {
   "cell_type": "code",
   "execution_count": 12,
   "id": "3695d44e-d204-458b-af11-250c7945c800",
   "metadata": {},
   "outputs": [],
   "source": [
    "class CrossEntropyLossFunction(nn.Module):\n",
    "\n",
    "    def __init__(self):\n",
    "\n",
    "        super(CrossEntropyLossFunction, self).__init__()\n",
    "        self.loss_fct = nn.CrossEntropyLoss()\n",
    "\n",
    "    def forward(self, lm_logits, labels):\n",
    "\n",
    "        shift_logits = lm_logits[..., :-1, :].contiguous()\n",
    "        shift_labels = labels[..., 1:].contiguous()\n",
    "\n",
    "        loss = self.loss_fct(shift_logits.view(-1, shift_logits.size(-1)), shift_labels.view(-1))\n",
    "\n",
    "        return loss"
   ]
  },
  {
   "cell_type": "code",
   "execution_count": 13,
   "id": "5bb93592-f0a8-45c6-b5e8-6ab85e21f9df",
   "metadata": {},
   "outputs": [],
   "source": [
    "def train(model, tokenizer, train_data, epochs, learning_rate, epsilon=1e-8):\n",
    "\n",
    "    train = LyricsDataset(train_data, tokenizer)\n",
    "    train_dataloader = torch.utils.data.DataLoader(train, batch_size=2, shuffle=True)\n",
    "\n",
    "    optimizer = AdamW(model.parameters(),\n",
    "                  lr = learning_rate,\n",
    "                  eps = epsilon\n",
    "                )\n",
    "    criterion = CrossEntropyLossFunction().to(device)\n",
    "    model = model.to(device)\n",
    "\n",
    "    best_loss = 1000\n",
    "\n",
    "    for epoch_i in range(0, epochs):\n",
    "\n",
    "        total_train_loss = 0\n",
    "        total_val_loss = 0\n",
    "        for train_input in tqdm(train_dataloader):\n",
    "\n",
    "            mask = train_input['attention_mask'].to(device)\n",
    "            input_id = train_input['input_ids'].to(device)\n",
    "\n",
    "            outputs = model(input_id,\n",
    "                            attention_mask = mask,\n",
    "                            token_type_ids=None\n",
    "                            )\n",
    "\n",
    "            loss = criterion(outputs, input_id)\n",
    "\n",
    "            batch_loss = loss.item()\n",
    "            total_train_loss += batch_loss\n",
    "\n",
    "            loss.backward()\n",
    "            optimizer.step()\n",
    "            model.zero_grad()\n",
    "\n",
    "        avg_train_loss = total_train_loss / len(train_dataloader)\n",
    "\n",
    "        print(f\"Epoch: {epoch_i}, Avg train loss: {np.round(avg_train_loss,2)}\")"
   ]
  },
  {
   "cell_type": "markdown",
   "id": "5ba615d9",
   "metadata": {},
   "source": [
    "Having done that, it's time for training! Because the training took so long I did a few epochs at a time. You can save the results from your model and then load them again using the load_state_dict and save functions."
   ]
  },
  {
   "cell_type": "code",
   "execution_count": 19,
   "id": "189fbcab-a7e8-4133-96b8-aefe01b50a94",
   "metadata": {},
   "outputs": [
    {
     "name": "stderr",
     "output_type": "stream",
     "text": [
      "Special tokens have been added in the vocabulary, make sure the associated word embeddings are fine-tuned or trained.\n",
      "100%|██████████| 3871/3871 [1:11:14<00:00,  1.10s/it]\n"
     ]
    },
    {
     "name": "stdout",
     "output_type": "stream",
     "text": [
      "Epoch: 0, Avg train loss: 0.67\n"
     ]
    },
    {
     "name": "stderr",
     "output_type": "stream",
     "text": [
      "100%|██████████| 3871/3871 [1:11:13<00:00,  1.10s/it]\n"
     ]
    },
    {
     "name": "stdout",
     "output_type": "stream",
     "text": [
      "Epoch: 1, Avg train loss: 0.6\n"
     ]
    },
    {
     "name": "stderr",
     "output_type": "stream",
     "text": [
      "100%|██████████| 3871/3871 [1:10:56<00:00,  1.10s/it]\n"
     ]
    },
    {
     "name": "stdout",
     "output_type": "stream",
     "text": [
      "Epoch: 2, Avg train loss: 0.54\n"
     ]
    },
    {
     "name": "stderr",
     "output_type": "stream",
     "text": [
      "100%|██████████| 3871/3871 [1:10:55<00:00,  1.10s/it]\n"
     ]
    },
    {
     "name": "stdout",
     "output_type": "stream",
     "text": [
      "Epoch: 3, Avg train loss: 0.48\n"
     ]
    },
    {
     "name": "stderr",
     "output_type": "stream",
     "text": [
      "100%|██████████| 3871/3871 [1:10:55<00:00,  1.10s/it]\n"
     ]
    },
    {
     "name": "stdout",
     "output_type": "stream",
     "text": [
      "Epoch: 4, Avg train loss: 0.42\n"
     ]
    },
    {
     "name": "stderr",
     "output_type": "stream",
     "text": [
      "100%|██████████| 3871/3871 [1:10:55<00:00,  1.10s/it]\n"
     ]
    },
    {
     "name": "stdout",
     "output_type": "stream",
     "text": [
      "Epoch: 5, Avg train loss: 0.37\n"
     ]
    },
    {
     "name": "stderr",
     "output_type": "stream",
     "text": [
      "100%|██████████| 3871/3871 [1:10:55<00:00,  1.10s/it]\n"
     ]
    },
    {
     "name": "stdout",
     "output_type": "stream",
     "text": [
      "Epoch: 6, Avg train loss: 0.33\n"
     ]
    },
    {
     "name": "stderr",
     "output_type": "stream",
     "text": [
      "100%|██████████| 3871/3871 [1:10:55<00:00,  1.10s/it]\n"
     ]
    },
    {
     "name": "stdout",
     "output_type": "stream",
     "text": [
      "Epoch: 7, Avg train loss: 0.28\n"
     ]
    },
    {
     "name": "stderr",
     "output_type": "stream",
     "text": [
      "100%|██████████| 3871/3871 [1:10:54<00:00,  1.10s/it]\n"
     ]
    },
    {
     "name": "stdout",
     "output_type": "stream",
     "text": [
      "Epoch: 8, Avg train loss: 0.25\n"
     ]
    },
    {
     "name": "stderr",
     "output_type": "stream",
     "text": [
      "100%|██████████| 3871/3871 [1:11:02<00:00,  1.10s/it]\n"
     ]
    },
    {
     "name": "stdout",
     "output_type": "stream",
     "text": [
      "Epoch: 9, Avg train loss: 0.21\n"
     ]
    }
   ],
   "source": [
    "#Specify parameters and set up model\n",
    "epochs = 10\n",
    "learning_rate = 1e-5\n",
    "configuration = GPT2Config()\n",
    "gpt_model = GPT2_Model(configuration).to(device)\n",
    "#Load model state if you want\n",
    "gpt_model.load_state_dict(torch.load('GPT-Trained-Model'))\n",
    "#Train\n",
    "train(gpt_model, tokenizer, text_corpus, epochs, learning_rate)\n",
    "#Save\n",
    "torch.save(gpt_model.state_dict(), 'GPT-Trained-Model')"
   ]
  },
  {
   "cell_type": "markdown",
   "id": "c61f7a71-7b53-4d2d-9593-8bde9751056c",
   "metadata": {},
   "source": [
    "After training the model, it's time to generate some lyrics! Refer to the following notebook to check the procedure."
   ]
  }
 ],
 "metadata": {
  "kernelspec": {
   "display_name": "Python 3 (ipykernel)",
   "language": "python",
   "name": "python3"
  },
  "language_info": {
   "codemirror_mode": {
    "name": "ipython",
    "version": 3
   },
   "file_extension": ".py",
   "mimetype": "text/x-python",
   "name": "python",
   "nbconvert_exporter": "python",
   "pygments_lexer": "ipython3",
   "version": "3.11.7"
  }
 },
 "nbformat": 4,
 "nbformat_minor": 5
}
