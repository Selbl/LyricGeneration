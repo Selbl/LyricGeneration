{
 "cells": [
  {
   "cell_type": "markdown",
   "id": "ac08dcce",
   "metadata": {},
   "source": [
    "# Fetching Genius Lyrics"
   ]
  },
  {
   "cell_type": "markdown",
   "id": "b9339e52",
   "metadata": {},
   "source": [
    "This notebook describes how I used the Genius API to scrape lyrics for use in my lyric generation model. You can run the code after obtaining an API key to fetch your own data as well. Be sure to obtain your key from the [Genius website](https://genius.com/api-clients).\n",
    "\n",
    "Keep in mind that fetching data takes a while. It took me on average 2 minutes to fetch 50 songs. I reccommend fetching songs one artist at a time. I suggest having a list of artists you want to fetch songs from before running the code.\n",
    "\n",
    "Credits to: \n",
    "- [Hakan Sarıtaş](https://hakansaritas.medium.com/80s-hard-rock-song-scraping-and-letters-analysis-via-pandas-72a43b1267f) for his well detailed guide on getting lyrics from the Genius API.\n",
    "- [Rolling Stone](https://genius.com/Rolling-stone-100-greatest-artists-annotated) for their list on 100 top artists I used as inspiration to create my artist list\n",
    "- [Spinditty](https://spinditty.com/artists-bands/100-Best-Rock-Bands-of-the-2000s) for their list on the 100 top rock artists of the 2000s (I needed to get something that played during my childhood)"
   ]
  },
  {
   "cell_type": "markdown",
   "id": "4b911044",
   "metadata": {},
   "source": [
    "## Preliminaries"
   ]
  },
  {
   "cell_type": "markdown",
   "id": "bcf93d41",
   "metadata": {},
   "source": [
    "The two main functions in this notebook are:\n",
    "- Fetching lyrics\n",
    "- Formatting lyrics\n",
    "\n",
    "I begin by defining both of those functions. Note that the way I wrote the code makes it so I first fetch the lyrics and perform the lyric formatting after all the data has been retrieved from Genius. If you want to perform the lyrics clean up at the beginning, just uncomment the _#lyrics_list.append(lyrics_cleanup(lyrics_raw))_ line."
   ]
  },
  {
   "cell_type": "markdown",
   "id": "adc32309",
   "metadata": {},
   "source": [
    "First import the libraries and get the API key into a variable:"
   ]
  },
  {
   "cell_type": "code",
   "execution_count": 1,
   "id": "d7d68ac2",
   "metadata": {},
   "outputs": [],
   "source": [
    "import pandas as pd\n",
    "from lyricsgenius import Genius\n",
    "import re\n",
    "import time\n",
    "from time import strftime, gmtime\n",
    "\n",
    "#Replace the string below with your actual API key\n",
    "api_key = \"\""
   ]
  },
  {
   "cell_type": "markdown",
   "id": "5f350d49",
   "metadata": {},
   "source": [
    "Then define the dataframe fetching function:"
   ]
  },
  {
   "cell_type": "code",
   "execution_count": 2,
   "id": "0ee8b091",
   "metadata": {},
   "outputs": [],
   "source": [
    "'''\n",
    "The function below receives:\n",
    "- t0: a timestamp to track the time it takes to retrieve the lyrics\n",
    "- list_of_bands: a list of strings with the name of the bands whose lyrics are going to be retrieved\n",
    "- num_of_song: the number of songs per band to retrieve. These are taken in descending order from the band's top songs in Genius\n",
    "\n",
    "The output of the function is a dataframe with three columns: artist, song name and lyrics for the song\n",
    "'''\n",
    "def dataFrameFetcher(t0,list_of_bands=[\"The Who\"], num_of_song=25):\n",
    "    # Change remove_section_headers to true if you do not care about having the separations of [verse], [chorus] and so on\n",
    "    genius = Genius(api_key, timeout=120, remove_section_headers=False, verbose=False)\n",
    "    \n",
    "    #Store relevant information in lists, then create a dataframe from those lists\n",
    "    #Initialize empty lists\n",
    "    lyrics_list, song_name_list, artist_name_list = [], [], []\n",
    "    for band in list_of_bands:\n",
    "        #You can remove these prints if you want. I kept them to monitor progress\n",
    "        print(f'Fetching songs for artist: {band}')\n",
    "        t1 = time.time()\n",
    "        #Get seconds\n",
    "        secs = t1-t0\n",
    "        print(f'Time elapsed so far: {strftime(\"%H:%M:%S\", gmtime(secs))}')\n",
    "        #Access the API\n",
    "        artist_all_lyrics = genius.search_artist(band, max_songs=num_of_song)\n",
    "        for i in range(num_of_song):\n",
    "            # getting songs,artists names and IDs                 \n",
    "            try:\n",
    "            #Fetch the relevant information and add to the dataset\n",
    "                lyrics_raw = artist_all_lyrics.songs[i].lyrics\n",
    "                #Process the lyrics and add the rest\n",
    "                #lyrics_list.append(lyrics_cleanup(lyrics_raw))\n",
    "                lyrics_list.append(lyrics_raw)\n",
    "                song_name_list.append(artist_all_lyrics.songs[i].title)\n",
    "                artist_name_list.append(artist_all_lyrics.songs[i].artist)\n",
    "            except (AttributeError, IndexError):\n",
    "                continue\n",
    "    #Having iterated through everything, store in dataframe\n",
    "    df = pd.DataFrame({\"Artist\":artist_name_list,\"Song Name\":song_name_list,\"Lyrics\":lyrics_list})\n",
    "    return df"
   ]
  },
  {
   "cell_type": "markdown",
   "id": "c40a7cfd",
   "metadata": {},
   "source": [
    "Define the function for lyric clean-up (formatting). The process the function follows is:\n",
    "- Remove the _Embed_ keyword along with how many embeds occur at the end of the song\n",
    "- Remove all instances of _You might also like_ which appears at the beginning and sometimes in the middle of a song. This is a keyword which I presume Genius uses to suggest other songs when you look at the lyrics in their website. To avoid removing that string from a song that has it as part of the actual lyrics, I use regular expressions to check where they occur.\n",
    "- Transform all text into lower case\n",
    "- If you are interested in obtaining the song parts (verse, chorus, etc.), these are tagged by Genius in brackets ([ ]). Genius numbers each verse depending on where they occur on the song (verse 1, verse 2,...) for simplicity, I treat all of them as a verse"
   ]
  },
  {
   "cell_type": "code",
   "execution_count": 3,
   "id": "e8cb4e55",
   "metadata": {},
   "outputs": [],
   "source": [
    "'''\n",
    "This function receives as input:\n",
    "- lyrics: a string with the lyrics of the songs\n",
    "- remove_break: a boolean that indicates if you want to remove the line breaks (\\n) at the end of each line in the song\n",
    "\n",
    "The function outputs a string with the formatted lyrics\n",
    "'''\n",
    "def lyrics_cleanup_parts(lyrics,remove_break=True):\n",
    "    #Every lyric has at the beginning the number of contributors and at the end an embed\n",
    "    #Remove them from mental sanity\n",
    "    #Start with the embed, just read backwards until there is no more number\n",
    "    #I know that if I index the lyric at -5 I finish the embed word\n",
    "    #Create a candidate and iterate until the lyric stops being a number\n",
    "    #Processing the after part\n",
    "    cand = -5\n",
    "    while lyrics[cand].isdigit():\n",
    "        cand -= 1\n",
    "    #Then re-write the lyrics\n",
    "    lyrics = lyrics[:cand-2]\n",
    "    #Sometimes the songs have a \"you might also like\" right at the end\n",
    "    #Also get rid of that \n",
    "    if lyrics[-20:] == '\\nYou might also like':\n",
    "        lyrics = lyrics[:-20]\n",
    "    #Processing the before part\n",
    "    #There is a number, a space and then contributors. the space and contributors substring contributes 13 characters\n",
    "    #So I count through the other characters until the number is gone\n",
    "    cand = 0\n",
    "    while lyrics[cand].isdigit():\n",
    "        cand += 1\n",
    "    #Re-write the lyrics\n",
    "    lyrics = lyrics[cand+13:]\n",
    "    #The Genius formatting has the song title and then lyrics afterwards. I can identify where those lie easily by finding\n",
    "    #the first \\n\n",
    "    cand = lyrics.find('[')\n",
    "    lyrics = lyrics[cand:]\n",
    "    #Sometimes the lyrics have another \\n at the beginning, if that is the case I also get rid of it\n",
    "    if lyrics[0] == '\\n':\n",
    "        lyrics = lyrics[1:]\n",
    "    #There might be other you might also like that are intrusive, so I remove them as well\n",
    "    lyrics = lyrics.replace('You might also like[', '[')\n",
    "    #Remove the numbers from the tags\n",
    "    pattern = re.compile(r'\\[([^0-9]+)\\s*\\d+\\]')\n",
    "    # Use sub() to replace the matched pattern with '[' and ']'\n",
    "    lyrics = pattern.sub(r'[\\1]', lyrics)\n",
    "    #Replace the verse whitespace with just verse\n",
    "    lyrics = lyrics.replace(' ]',']')\n",
    "    #Remove all potential extra words inside brackets\n",
    "    pattern = r'\\[([^\\]]+)\\]'\n",
    "    lyrics = re.sub(pattern, lambda match: '[' + match.group(1).split()[0] + ']', lyrics)\n",
    "    #Remove potential double dots\n",
    "    lyrics = lyrics.replace(':]',']')\n",
    "    #After that is done, remove all newlines\n",
    "    if remove_break:\n",
    "        lyrics = ' '.join(lyrics.splitlines())\n",
    "    #Make everything lowercase\n",
    "    lyrics = lyrics.lower()\n",
    "    #Remove buying ticket info\n",
    "    return lyrics"
   ]
  },
  {
   "cell_type": "markdown",
   "id": "e4f215f8-b72e-413f-901e-289fbc5f35bc",
   "metadata": {},
   "source": [
    "Also, some artists have an annoying message intertwined with the lyrics where they advertise live tickets. Because that message changes depending on the artist name, I create a function that receives the artist name and the lyrics and gets rid of it."
   ]
  },
  {
   "cell_type": "code",
   "execution_count": 4,
   "id": "b12db2ae-90d2-4f8e-8529-c67ca5511bed",
   "metadata": {},
   "outputs": [],
   "source": [
    "def remove_ticket_info(artist_name, lyrics):\n",
    "    #Transform artist_name to lower\n",
    "    artist_name = artist_name.lower()\n",
    "    # Construct the regex pattern using re.escape() for safe inclusion of artist_name\n",
    "    #pattern = re.compile(re.escape(artist_name) + r'\\s*liveget\\s+tickets\\s+as\\s+low\\s+as\\s+\\$\\d+\\s*', re.IGNORECASE)\n",
    "    pattern = re.compile(r'see\\s+' + re.escape(artist_name) + r'\\s*liveget\\s+tickets\\s+as\\s+low\\s+as\\s+\\$\\d+\\s*', re.IGNORECASE)\n",
    "    # Use re.sub() to remove the matched expression from the lyrics\n",
    "    result = re.sub(pattern, '', lyrics)\n",
    "    return result.strip()"
   ]
  },
  {
   "cell_type": "markdown",
   "id": "4fd3fd43",
   "metadata": {},
   "source": [
    "## Data Fetching"
   ]
  },
  {
   "cell_type": "markdown",
   "id": "830a2466",
   "metadata": {},
   "source": [
    "Having defined the functions, it is time to run the code! The code first retrieves the data for one artist, and then iterates through the artist_list, concatenating the data to the original dataframe.\n",
    "\n",
    "Please note that the way it is written, the csv file with the lyrics will be overwritten everytime you fetch data for a new artist. This is great if you have an intermittent connection and are unsure if something will happen before you finish fetching. You can move it to act after the for loop if you would like."
   ]
  },
  {
   "cell_type": "code",
   "execution_count": 5,
   "id": "8b5f7706",
   "metadata": {},
   "outputs": [],
   "source": [
    "artist_list = [\"Put your artist list here, you can fetch it from a txt or csv file if you would like\"]\n",
    "artist_list = [\"The Who\"]"
   ]
  },
  {
   "cell_type": "code",
   "execution_count": 6,
   "id": "ecb6af58-0679-4bec-a562-4a6ee061476b",
   "metadata": {},
   "outputs": [
    {
     "name": "stdout",
     "output_type": "stream",
     "text": [
      "Fetching songs for artist: The Who\n",
      "Time elapsed so far: 00:00:00\n"
     ]
    }
   ],
   "source": [
    "#Store data periodically\n",
    "#Get first time\n",
    "t0 = time.time()\n",
    "df = dataFrameFetcher(t0,list_of_bands=artist_list[:1], num_of_song=20)\n",
    "for artist in artist_list[1:]:\n",
    "    #Fetch new data\n",
    "    dfres = dataFrameFetcher(t0,list_of_bands=[artist], num_of_song=20)\n",
    "    df = pd.concat([df, dfres])\n",
    "    #overwrite\n",
    "    df.to_csv('Lyrics50WithParts.csv',index=False)"
   ]
  },
  {
   "cell_type": "markdown",
   "id": "3c3283b2",
   "metadata": {},
   "source": [
    "## Lyrics Processing"
   ]
  },
  {
   "cell_type": "markdown",
   "id": "b17779df",
   "metadata": {},
   "source": [
    "Having obtained all the lyrics, it is time to perform the data formatting.\n",
    "\n",
    "I have set up the code so it stores a new column in the original dataframe with the processed lyrics. This is to have better control over the formatting and to be able to go back to the original lyrics and format them differently if needed."
   ]
  },
  {
   "cell_type": "code",
   "execution_count": 7,
   "id": "5bb512b0-be74-412e-8768-c11a45b1a5e2",
   "metadata": {},
   "outputs": [],
   "source": [
    "#Apply the transformation\n",
    "lyrics_cleaned = [lyrics_cleanup_parts(lyrics,remove_break=True) for lyrics in df['Lyrics']]\n",
    "#Append to database\n",
    "df['Lyrics_Cleaned'] = lyrics_cleaned\n",
    "#Remove the selling ticket message\n",
    "df['Lyrics_Cleaned'] = df.apply(lambda row: remove_ticket_info(row['Artist'], row['Lyrics_Cleaned']), axis=1)"
   ]
  },
  {
   "cell_type": "code",
   "execution_count": 8,
   "id": "db45c660-a5d9-490a-b6ac-6212093b35c2",
   "metadata": {},
   "outputs": [],
   "source": [
    "#Some lyrics may be a float (empty lyrics), so I delete them\n",
    "for lyric in df['Lyrics_Cleaned']:\n",
    "    if type(lyric) != str:\n",
    "        print(lyric)"
   ]
  },
  {
   "cell_type": "code",
   "execution_count": 9,
   "id": "7ef6449e-2c20-4bf7-b6c4-0a9f102f7450",
   "metadata": {},
   "outputs": [],
   "source": [
    "df.to_csv('SongsDFCleanedLyricsParts.csv',index=False)"
   ]
  },
  {
   "cell_type": "markdown",
   "id": "3c83aeb0",
   "metadata": {},
   "source": [
    "## Done"
   ]
  },
  {
   "cell_type": "markdown",
   "id": "45b6342c",
   "metadata": {},
   "source": [
    "After running the code in this notebook, you will have a dataframe with formatted lyrics, ready to be used! Please refer to the Notebook with the lyric generation model for details on that process."
   ]
  }
 ],
 "metadata": {
  "kernelspec": {
   "display_name": "Python 3 (ipykernel)",
   "language": "python",
   "name": "python3"
  },
  "language_info": {
   "codemirror_mode": {
    "name": "ipython",
    "version": 3
   },
   "file_extension": ".py",
   "mimetype": "text/x-python",
   "name": "python",
   "nbconvert_exporter": "python",
   "pygments_lexer": "ipython3",
   "version": "3.11.7"
  }
 },
 "nbformat": 4,
 "nbformat_minor": 5
}
